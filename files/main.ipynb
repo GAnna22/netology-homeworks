{
 "cells": [
  {
   "cell_type": "markdown",
   "metadata": {},
   "source": [
    "## Задание 1"
   ]
  },
  {
   "cell_type": "code",
   "execution_count": 8,
   "metadata": {},
   "outputs": [],
   "source": [
    "with open('recipes.txt', 'rt', encoding='utf-8') as f:\n",
    "    dict_of_dishes = {}\n",
    "    for dish_name in f:\n",
    "        dish_name = dish_name.strip()\n",
    "        dict_of_dishes.setdefault(dish_name, [])\n",
    "        num_of_ingredients = int(f.readline().strip())\n",
    "        for i in range(num_of_ingredients):\n",
    "            item, quant, val = f.readline().strip().split(' | ')\n",
    "            dict_of_dishes[dish_name].append({'ingredient_name': item,\n",
    "                                              'quantity': int(quant),\n",
    "                                              'measure': val})\n",
    "        f.readline()"
   ]
  },
  {
   "cell_type": "code",
   "execution_count": 9,
   "metadata": {},
   "outputs": [
    {
     "data": {
      "text/plain": [
       "{'Омлет': [{'ingredient_name': 'Яйцо', 'quantity': 2, 'measure': 'шт'},\n",
       "  {'ingredient_name': 'Молоко', 'quantity': 100, 'measure': 'мл'},\n",
       "  {'ingredient_name': 'Помидор', 'quantity': 2, 'measure': 'шт'}],\n",
       " 'Утка по-пекински': [{'ingredient_name': 'Утка',\n",
       "   'quantity': 1,\n",
       "   'measure': 'шт'},\n",
       "  {'ingredient_name': 'Вода', 'quantity': 2, 'measure': 'л'},\n",
       "  {'ingredient_name': 'Мед', 'quantity': 3, 'measure': 'ст.л'},\n",
       "  {'ingredient_name': 'Соевый соус', 'quantity': 60, 'measure': 'мл'}],\n",
       " 'Запеченный картофель': [{'ingredient_name': 'Картофель',\n",
       "   'quantity': 1,\n",
       "   'measure': 'кг'},\n",
       "  {'ingredient_name': 'Чеснок', 'quantity': 3, 'measure': 'зубч'},\n",
       "  {'ingredient_name': 'Сыр гауда', 'quantity': 100, 'measure': 'г'}],\n",
       " 'Фахитос': [{'ingredient_name': 'Говядина', 'quantity': 500, 'measure': 'г'},\n",
       "  {'ingredient_name': 'Перец сладкий', 'quantity': 1, 'measure': 'шт'},\n",
       "  {'ingredient_name': 'Лаваш', 'quantity': 2, 'measure': 'шт'},\n",
       "  {'ingredient_name': 'Винный уксус', 'quantity': 1, 'measure': 'ст.л'},\n",
       "  {'ingredient_name': 'Помидор', 'quantity': 2, 'measure': 'шт'}]}"
      ]
     },
     "execution_count": 9,
     "metadata": {},
     "output_type": "execute_result"
    }
   ],
   "source": [
    "dict_of_dishes"
   ]
  },
  {
   "cell_type": "markdown",
   "metadata": {},
   "source": [
    "## Задание 2"
   ]
  },
  {
   "cell_type": "code",
   "execution_count": 10,
   "metadata": {},
   "outputs": [],
   "source": [
    "def get_shop_list_by_dishes(dishes_list, num_of_persons):\n",
    "    res = {}\n",
    "    for dish_name in dishes_list:\n",
    "        for el in dict_of_dishes[dish_name]:\n",
    "            if el['ingredient_name'] in res.keys():\n",
    "                res[el['ingredient_name']]['quantity'] += num_of_persons*el['quantity']\n",
    "            else:\n",
    "                res[el['ingredient_name']] = {'measure': el['measure'],\n",
    "                                              'quantity': num_of_persons*el['quantity']}\n",
    "    return res"
   ]
  },
  {
   "cell_type": "code",
   "execution_count": 11,
   "metadata": {},
   "outputs": [
    {
     "data": {
      "text/plain": [
       "{'Картофель': {'measure': 'кг', 'quantity': 2},\n",
       " 'Чеснок': {'measure': 'зубч', 'quantity': 6},\n",
       " 'Сыр гауда': {'measure': 'г', 'quantity': 200},\n",
       " 'Яйцо': {'measure': 'шт', 'quantity': 4},\n",
       " 'Молоко': {'measure': 'мл', 'quantity': 200},\n",
       " 'Помидор': {'measure': 'шт', 'quantity': 4}}"
      ]
     },
     "execution_count": 11,
     "metadata": {},
     "output_type": "execute_result"
    }
   ],
   "source": [
    "get_shop_list_by_dishes(['Запеченный картофель', 'Омлет'], 2)"
   ]
  },
  {
   "cell_type": "code",
   "execution_count": 12,
   "metadata": {},
   "outputs": [
    {
     "data": {
      "text/plain": [
       "{'Говядина': {'measure': 'г', 'quantity': 1500},\n",
       " 'Перец сладкий': {'measure': 'шт', 'quantity': 3},\n",
       " 'Лаваш': {'measure': 'шт', 'quantity': 6},\n",
       " 'Винный уксус': {'measure': 'ст.л', 'quantity': 3},\n",
       " 'Помидор': {'measure': 'шт', 'quantity': 12},\n",
       " 'Яйцо': {'measure': 'шт', 'quantity': 6},\n",
       " 'Молоко': {'measure': 'мл', 'quantity': 300}}"
      ]
     },
     "execution_count": 12,
     "metadata": {},
     "output_type": "execute_result"
    }
   ],
   "source": [
    "get_shop_list_by_dishes(['Фахитос', 'Омлет'], 3)"
   ]
  },
  {
   "cell_type": "markdown",
   "metadata": {},
   "source": [
    "## Задание 3"
   ]
  },
  {
   "cell_type": "code",
   "execution_count": 13,
   "metadata": {},
   "outputs": [],
   "source": [
    "import os"
   ]
  },
  {
   "cell_type": "code",
   "execution_count": 53,
   "metadata": {},
   "outputs": [],
   "source": [
    "path = 'examples'\n",
    "not_sorted_list = []\n",
    "for file in os.listdir(path):\n",
    "    target_path = os.path.join(path, file)\n",
    "    with open(target_path, 'rt', encoding='utf-8') as f:\n",
    "        res = f.readlines()\n",
    "        res[-1] = res[-1].rstrip('\\n') + '\\n'\n",
    "        not_sorted_list.append((file, len(res), res))"
   ]
  },
  {
   "cell_type": "code",
   "execution_count": 54,
   "metadata": {},
   "outputs": [],
   "source": [
    "sorted_list = sorted(not_sorted_list, key=lambda x: x[1])"
   ]
  },
  {
   "cell_type": "code",
   "execution_count": 55,
   "metadata": {},
   "outputs": [],
   "source": [
    "with open('result.txt', 'w') as f:\n",
    "    for elems in sorted_list:\n",
    "        f.write(elems[0] + '\\n')\n",
    "        f.write(str(elems[1]) + '\\n')\n",
    "        f.writelines(elems[2])"
   ]
  },
  {
   "cell_type": "code",
   "execution_count": null,
   "metadata": {},
   "outputs": [],
   "source": []
  }
 ],
 "metadata": {
  "celltoolbar": "Slideshow",
  "kernelspec": {
   "display_name": "Python 3",
   "language": "python",
   "name": "python3"
  },
  "language_info": {
   "codemirror_mode": {
    "name": "ipython",
    "version": 3
   },
   "file_extension": ".py",
   "mimetype": "text/x-python",
   "name": "python",
   "nbconvert_exporter": "python",
   "pygments_lexer": "ipython3",
   "version": "3.8.5"
  },
  "toc": {
   "base_numbering": 1,
   "nav_menu": {},
   "number_sections": false,
   "sideBar": true,
   "skip_h1_title": false,
   "title_cell": "Table of Contents",
   "title_sidebar": "Contents",
   "toc_cell": false,
   "toc_position": {},
   "toc_section_display": true,
   "toc_window_display": false
  }
 },
 "nbformat": 4,
 "nbformat_minor": 4
}
